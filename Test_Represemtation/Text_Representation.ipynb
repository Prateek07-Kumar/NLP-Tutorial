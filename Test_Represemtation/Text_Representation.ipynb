{
  "nbformat": 4,
  "nbformat_minor": 0,
  "metadata": {
    "colab": {
      "provenance": []
    },
    "kernelspec": {
      "name": "python3",
      "display_name": "Python 3"
    },
    "language_info": {
      "name": "python"
    }
  },
  "cells": [
    {
      "cell_type": "markdown",
      "source": [
        "### NLP Tutorial: Text Representation - Bag Of Words (BOW)"
      ],
      "metadata": {
        "id": "v6hBBxO3wRo7"
      }
    },
    {
      "cell_type": "code",
      "execution_count": 2,
      "metadata": {
        "id": "rMuP7J45ZV39"
      },
      "outputs": [],
      "source": [
        "import pandas as pd\n",
        "import numpy as np"
      ]
    },
    {
      "cell_type": "code",
      "source": [
        "df = pd.read_csv(\"/content/spam.csv\", encoding='latin-1')\n",
        "\n",
        "df.head()"
      ],
      "metadata": {
        "colab": {
          "base_uri": "https://localhost:8080/",
          "height": 206
        },
        "id": "DaD12kt0Z7G-",
        "outputId": "9787d46d-c618-4538-bd8c-a219f0162be7"
      },
      "execution_count": 5,
      "outputs": [
        {
          "output_type": "execute_result",
          "data": {
            "text/plain": [
              "     v1                                                 v2 Unnamed: 2  \\\n",
              "0   ham  Go until jurong point, crazy.. Available only ...        NaN   \n",
              "1   ham                      Ok lar... Joking wif u oni...        NaN   \n",
              "2  spam  Free entry in 2 a wkly comp to win FA Cup fina...        NaN   \n",
              "3   ham  U dun say so early hor... U c already then say...        NaN   \n",
              "4   ham  Nah I don't think he goes to usf, he lives aro...        NaN   \n",
              "\n",
              "  Unnamed: 3 Unnamed: 4  \n",
              "0        NaN        NaN  \n",
              "1        NaN        NaN  \n",
              "2        NaN        NaN  \n",
              "3        NaN        NaN  \n",
              "4        NaN        NaN  "
            ],
            "text/html": [
              "\n",
              "  <div id=\"df-2155e0b0-8e99-40f3-824e-a1526f155846\" class=\"colab-df-container\">\n",
              "    <div>\n",
              "<style scoped>\n",
              "    .dataframe tbody tr th:only-of-type {\n",
              "        vertical-align: middle;\n",
              "    }\n",
              "\n",
              "    .dataframe tbody tr th {\n",
              "        vertical-align: top;\n",
              "    }\n",
              "\n",
              "    .dataframe thead th {\n",
              "        text-align: right;\n",
              "    }\n",
              "</style>\n",
              "<table border=\"1\" class=\"dataframe\">\n",
              "  <thead>\n",
              "    <tr style=\"text-align: right;\">\n",
              "      <th></th>\n",
              "      <th>v1</th>\n",
              "      <th>v2</th>\n",
              "      <th>Unnamed: 2</th>\n",
              "      <th>Unnamed: 3</th>\n",
              "      <th>Unnamed: 4</th>\n",
              "    </tr>\n",
              "  </thead>\n",
              "  <tbody>\n",
              "    <tr>\n",
              "      <th>0</th>\n",
              "      <td>ham</td>\n",
              "      <td>Go until jurong point, crazy.. Available only ...</td>\n",
              "      <td>NaN</td>\n",
              "      <td>NaN</td>\n",
              "      <td>NaN</td>\n",
              "    </tr>\n",
              "    <tr>\n",
              "      <th>1</th>\n",
              "      <td>ham</td>\n",
              "      <td>Ok lar... Joking wif u oni...</td>\n",
              "      <td>NaN</td>\n",
              "      <td>NaN</td>\n",
              "      <td>NaN</td>\n",
              "    </tr>\n",
              "    <tr>\n",
              "      <th>2</th>\n",
              "      <td>spam</td>\n",
              "      <td>Free entry in 2 a wkly comp to win FA Cup fina...</td>\n",
              "      <td>NaN</td>\n",
              "      <td>NaN</td>\n",
              "      <td>NaN</td>\n",
              "    </tr>\n",
              "    <tr>\n",
              "      <th>3</th>\n",
              "      <td>ham</td>\n",
              "      <td>U dun say so early hor... U c already then say...</td>\n",
              "      <td>NaN</td>\n",
              "      <td>NaN</td>\n",
              "      <td>NaN</td>\n",
              "    </tr>\n",
              "    <tr>\n",
              "      <th>4</th>\n",
              "      <td>ham</td>\n",
              "      <td>Nah I don't think he goes to usf, he lives aro...</td>\n",
              "      <td>NaN</td>\n",
              "      <td>NaN</td>\n",
              "      <td>NaN</td>\n",
              "    </tr>\n",
              "  </tbody>\n",
              "</table>\n",
              "</div>\n",
              "    <div class=\"colab-df-buttons\">\n",
              "\n",
              "  <div class=\"colab-df-container\">\n",
              "    <button class=\"colab-df-convert\" onclick=\"convertToInteractive('df-2155e0b0-8e99-40f3-824e-a1526f155846')\"\n",
              "            title=\"Convert this dataframe to an interactive table.\"\n",
              "            style=\"display:none;\">\n",
              "\n",
              "  <svg xmlns=\"http://www.w3.org/2000/svg\" height=\"24px\" viewBox=\"0 -960 960 960\">\n",
              "    <path d=\"M120-120v-720h720v720H120Zm60-500h600v-160H180v160Zm220 220h160v-160H400v160Zm0 220h160v-160H400v160ZM180-400h160v-160H180v160Zm440 0h160v-160H620v160ZM180-180h160v-160H180v160Zm440 0h160v-160H620v160Z\"/>\n",
              "  </svg>\n",
              "    </button>\n",
              "\n",
              "  <style>\n",
              "    .colab-df-container {\n",
              "      display:flex;\n",
              "      gap: 12px;\n",
              "    }\n",
              "\n",
              "    .colab-df-convert {\n",
              "      background-color: #E8F0FE;\n",
              "      border: none;\n",
              "      border-radius: 50%;\n",
              "      cursor: pointer;\n",
              "      display: none;\n",
              "      fill: #1967D2;\n",
              "      height: 32px;\n",
              "      padding: 0 0 0 0;\n",
              "      width: 32px;\n",
              "    }\n",
              "\n",
              "    .colab-df-convert:hover {\n",
              "      background-color: #E2EBFA;\n",
              "      box-shadow: 0px 1px 2px rgba(60, 64, 67, 0.3), 0px 1px 3px 1px rgba(60, 64, 67, 0.15);\n",
              "      fill: #174EA6;\n",
              "    }\n",
              "\n",
              "    .colab-df-buttons div {\n",
              "      margin-bottom: 4px;\n",
              "    }\n",
              "\n",
              "    [theme=dark] .colab-df-convert {\n",
              "      background-color: #3B4455;\n",
              "      fill: #D2E3FC;\n",
              "    }\n",
              "\n",
              "    [theme=dark] .colab-df-convert:hover {\n",
              "      background-color: #434B5C;\n",
              "      box-shadow: 0px 1px 3px 1px rgba(0, 0, 0, 0.15);\n",
              "      filter: drop-shadow(0px 1px 2px rgba(0, 0, 0, 0.3));\n",
              "      fill: #FFFFFF;\n",
              "    }\n",
              "  </style>\n",
              "\n",
              "    <script>\n",
              "      const buttonEl =\n",
              "        document.querySelector('#df-2155e0b0-8e99-40f3-824e-a1526f155846 button.colab-df-convert');\n",
              "      buttonEl.style.display =\n",
              "        google.colab.kernel.accessAllowed ? 'block' : 'none';\n",
              "\n",
              "      async function convertToInteractive(key) {\n",
              "        const element = document.querySelector('#df-2155e0b0-8e99-40f3-824e-a1526f155846');\n",
              "        const dataTable =\n",
              "          await google.colab.kernel.invokeFunction('convertToInteractive',\n",
              "                                                    [key], {});\n",
              "        if (!dataTable) return;\n",
              "\n",
              "        const docLinkHtml = 'Like what you see? Visit the ' +\n",
              "          '<a target=\"_blank\" href=https://colab.research.google.com/notebooks/data_table.ipynb>data table notebook</a>'\n",
              "          + ' to learn more about interactive tables.';\n",
              "        element.innerHTML = '';\n",
              "        dataTable['output_type'] = 'display_data';\n",
              "        await google.colab.output.renderOutput(dataTable, element);\n",
              "        const docLink = document.createElement('div');\n",
              "        docLink.innerHTML = docLinkHtml;\n",
              "        element.appendChild(docLink);\n",
              "      }\n",
              "    </script>\n",
              "  </div>\n",
              "\n",
              "\n",
              "<div id=\"df-4cc9fa42-f87e-4b35-bdad-6516d94787f2\">\n",
              "  <button class=\"colab-df-quickchart\" onclick=\"quickchart('df-4cc9fa42-f87e-4b35-bdad-6516d94787f2')\"\n",
              "            title=\"Suggest charts.\"\n",
              "            style=\"display:none;\">\n",
              "\n",
              "<svg xmlns=\"http://www.w3.org/2000/svg\" height=\"24px\"viewBox=\"0 0 24 24\"\n",
              "     width=\"24px\">\n",
              "    <g>\n",
              "        <path d=\"M19 3H5c-1.1 0-2 .9-2 2v14c0 1.1.9 2 2 2h14c1.1 0 2-.9 2-2V5c0-1.1-.9-2-2-2zM9 17H7v-7h2v7zm4 0h-2V7h2v10zm4 0h-2v-4h2v4z\"/>\n",
              "    </g>\n",
              "</svg>\n",
              "  </button>\n",
              "\n",
              "<style>\n",
              "  .colab-df-quickchart {\n",
              "      --bg-color: #E8F0FE;\n",
              "      --fill-color: #1967D2;\n",
              "      --hover-bg-color: #E2EBFA;\n",
              "      --hover-fill-color: #174EA6;\n",
              "      --disabled-fill-color: #AAA;\n",
              "      --disabled-bg-color: #DDD;\n",
              "  }\n",
              "\n",
              "  [theme=dark] .colab-df-quickchart {\n",
              "      --bg-color: #3B4455;\n",
              "      --fill-color: #D2E3FC;\n",
              "      --hover-bg-color: #434B5C;\n",
              "      --hover-fill-color: #FFFFFF;\n",
              "      --disabled-bg-color: #3B4455;\n",
              "      --disabled-fill-color: #666;\n",
              "  }\n",
              "\n",
              "  .colab-df-quickchart {\n",
              "    background-color: var(--bg-color);\n",
              "    border: none;\n",
              "    border-radius: 50%;\n",
              "    cursor: pointer;\n",
              "    display: none;\n",
              "    fill: var(--fill-color);\n",
              "    height: 32px;\n",
              "    padding: 0;\n",
              "    width: 32px;\n",
              "  }\n",
              "\n",
              "  .colab-df-quickchart:hover {\n",
              "    background-color: var(--hover-bg-color);\n",
              "    box-shadow: 0 1px 2px rgba(60, 64, 67, 0.3), 0 1px 3px 1px rgba(60, 64, 67, 0.15);\n",
              "    fill: var(--button-hover-fill-color);\n",
              "  }\n",
              "\n",
              "  .colab-df-quickchart-complete:disabled,\n",
              "  .colab-df-quickchart-complete:disabled:hover {\n",
              "    background-color: var(--disabled-bg-color);\n",
              "    fill: var(--disabled-fill-color);\n",
              "    box-shadow: none;\n",
              "  }\n",
              "\n",
              "  .colab-df-spinner {\n",
              "    border: 2px solid var(--fill-color);\n",
              "    border-color: transparent;\n",
              "    border-bottom-color: var(--fill-color);\n",
              "    animation:\n",
              "      spin 1s steps(1) infinite;\n",
              "  }\n",
              "\n",
              "  @keyframes spin {\n",
              "    0% {\n",
              "      border-color: transparent;\n",
              "      border-bottom-color: var(--fill-color);\n",
              "      border-left-color: var(--fill-color);\n",
              "    }\n",
              "    20% {\n",
              "      border-color: transparent;\n",
              "      border-left-color: var(--fill-color);\n",
              "      border-top-color: var(--fill-color);\n",
              "    }\n",
              "    30% {\n",
              "      border-color: transparent;\n",
              "      border-left-color: var(--fill-color);\n",
              "      border-top-color: var(--fill-color);\n",
              "      border-right-color: var(--fill-color);\n",
              "    }\n",
              "    40% {\n",
              "      border-color: transparent;\n",
              "      border-right-color: var(--fill-color);\n",
              "      border-top-color: var(--fill-color);\n",
              "    }\n",
              "    60% {\n",
              "      border-color: transparent;\n",
              "      border-right-color: var(--fill-color);\n",
              "    }\n",
              "    80% {\n",
              "      border-color: transparent;\n",
              "      border-right-color: var(--fill-color);\n",
              "      border-bottom-color: var(--fill-color);\n",
              "    }\n",
              "    90% {\n",
              "      border-color: transparent;\n",
              "      border-bottom-color: var(--fill-color);\n",
              "    }\n",
              "  }\n",
              "</style>\n",
              "\n",
              "  <script>\n",
              "    async function quickchart(key) {\n",
              "      const quickchartButtonEl =\n",
              "        document.querySelector('#' + key + ' button');\n",
              "      quickchartButtonEl.disabled = true;  // To prevent multiple clicks.\n",
              "      quickchartButtonEl.classList.add('colab-df-spinner');\n",
              "      try {\n",
              "        const charts = await google.colab.kernel.invokeFunction(\n",
              "            'suggestCharts', [key], {});\n",
              "      } catch (error) {\n",
              "        console.error('Error during call to suggestCharts:', error);\n",
              "      }\n",
              "      quickchartButtonEl.classList.remove('colab-df-spinner');\n",
              "      quickchartButtonEl.classList.add('colab-df-quickchart-complete');\n",
              "    }\n",
              "    (() => {\n",
              "      let quickchartButtonEl =\n",
              "        document.querySelector('#df-4cc9fa42-f87e-4b35-bdad-6516d94787f2 button');\n",
              "      quickchartButtonEl.style.display =\n",
              "        google.colab.kernel.accessAllowed ? 'block' : 'none';\n",
              "    })();\n",
              "  </script>\n",
              "</div>\n",
              "    </div>\n",
              "  </div>\n"
            ]
          },
          "metadata": {},
          "execution_count": 5
        }
      ]
    },
    {
      "cell_type": "code",
      "source": [
        "# df.drop(columns= 'Unnamed: 2',inplace=True)"
      ],
      "metadata": {
        "id": "3qak8f2NZ_3Z"
      },
      "execution_count": 8,
      "outputs": []
    },
    {
      "cell_type": "code",
      "source": [
        "# df.rename(columns={'v1':'Category'},inplace=True)"
      ],
      "metadata": {
        "id": "x1kuLzHbbk-y"
      },
      "execution_count": 10,
      "outputs": []
    },
    {
      "cell_type": "code",
      "source": [
        "df.Category.value_counts()"
      ],
      "metadata": {
        "colab": {
          "base_uri": "https://localhost:8080/"
        },
        "id": "hyg8Wic7cti3",
        "outputId": "fff3df10-2030-45b1-f2a4-8439d031f6db"
      },
      "execution_count": 11,
      "outputs": [
        {
          "output_type": "execute_result",
          "data": {
            "text/plain": [
              "ham     4825\n",
              "spam     747\n",
              "Name: Category, dtype: int64"
            ]
          },
          "metadata": {},
          "execution_count": 11
        }
      ]
    },
    {
      "cell_type": "code",
      "source": [
        "# def get_spam_number(x):\n",
        "#   if x == 'spam':\n",
        "#     return 1\n",
        "#   return 0"
      ],
      "metadata": {
        "id": "FnHjeVDDj1x_"
      },
      "execution_count": null,
      "outputs": []
    },
    {
      "cell_type": "code",
      "source": [
        "df['spam']=df['Category'].apply(lambda x: 1 if x == 'spam' else 0)"
      ],
      "metadata": {
        "id": "7_mngxjPc-IK"
      },
      "execution_count": 12,
      "outputs": []
    },
    {
      "cell_type": "code",
      "source": [
        "df.head()"
      ],
      "metadata": {
        "colab": {
          "base_uri": "https://localhost:8080/",
          "height": 206
        },
        "id": "myQO7jywkHAX",
        "outputId": "9b484a6a-5826-4459-85fb-fc2df64edb99"
      },
      "execution_count": 13,
      "outputs": [
        {
          "output_type": "execute_result",
          "data": {
            "text/plain": [
              "  Category                                            Message  spam\n",
              "0      ham  Go until jurong point, crazy.. Available only ...     0\n",
              "1      ham                      Ok lar... Joking wif u oni...     0\n",
              "2     spam  Free entry in 2 a wkly comp to win FA Cup fina...     1\n",
              "3      ham  U dun say so early hor... U c already then say...     0\n",
              "4      ham  Nah I don't think he goes to usf, he lives aro...     0"
            ],
            "text/html": [
              "\n",
              "  <div id=\"df-be2f3d5f-d40a-4299-9588-b2f944876fe2\" class=\"colab-df-container\">\n",
              "    <div>\n",
              "<style scoped>\n",
              "    .dataframe tbody tr th:only-of-type {\n",
              "        vertical-align: middle;\n",
              "    }\n",
              "\n",
              "    .dataframe tbody tr th {\n",
              "        vertical-align: top;\n",
              "    }\n",
              "\n",
              "    .dataframe thead th {\n",
              "        text-align: right;\n",
              "    }\n",
              "</style>\n",
              "<table border=\"1\" class=\"dataframe\">\n",
              "  <thead>\n",
              "    <tr style=\"text-align: right;\">\n",
              "      <th></th>\n",
              "      <th>Category</th>\n",
              "      <th>Message</th>\n",
              "      <th>spam</th>\n",
              "    </tr>\n",
              "  </thead>\n",
              "  <tbody>\n",
              "    <tr>\n",
              "      <th>0</th>\n",
              "      <td>ham</td>\n",
              "      <td>Go until jurong point, crazy.. Available only ...</td>\n",
              "      <td>0</td>\n",
              "    </tr>\n",
              "    <tr>\n",
              "      <th>1</th>\n",
              "      <td>ham</td>\n",
              "      <td>Ok lar... Joking wif u oni...</td>\n",
              "      <td>0</td>\n",
              "    </tr>\n",
              "    <tr>\n",
              "      <th>2</th>\n",
              "      <td>spam</td>\n",
              "      <td>Free entry in 2 a wkly comp to win FA Cup fina...</td>\n",
              "      <td>1</td>\n",
              "    </tr>\n",
              "    <tr>\n",
              "      <th>3</th>\n",
              "      <td>ham</td>\n",
              "      <td>U dun say so early hor... U c already then say...</td>\n",
              "      <td>0</td>\n",
              "    </tr>\n",
              "    <tr>\n",
              "      <th>4</th>\n",
              "      <td>ham</td>\n",
              "      <td>Nah I don't think he goes to usf, he lives aro...</td>\n",
              "      <td>0</td>\n",
              "    </tr>\n",
              "  </tbody>\n",
              "</table>\n",
              "</div>\n",
              "    <div class=\"colab-df-buttons\">\n",
              "\n",
              "  <div class=\"colab-df-container\">\n",
              "    <button class=\"colab-df-convert\" onclick=\"convertToInteractive('df-be2f3d5f-d40a-4299-9588-b2f944876fe2')\"\n",
              "            title=\"Convert this dataframe to an interactive table.\"\n",
              "            style=\"display:none;\">\n",
              "\n",
              "  <svg xmlns=\"http://www.w3.org/2000/svg\" height=\"24px\" viewBox=\"0 -960 960 960\">\n",
              "    <path d=\"M120-120v-720h720v720H120Zm60-500h600v-160H180v160Zm220 220h160v-160H400v160Zm0 220h160v-160H400v160ZM180-400h160v-160H180v160Zm440 0h160v-160H620v160ZM180-180h160v-160H180v160Zm440 0h160v-160H620v160Z\"/>\n",
              "  </svg>\n",
              "    </button>\n",
              "\n",
              "  <style>\n",
              "    .colab-df-container {\n",
              "      display:flex;\n",
              "      gap: 12px;\n",
              "    }\n",
              "\n",
              "    .colab-df-convert {\n",
              "      background-color: #E8F0FE;\n",
              "      border: none;\n",
              "      border-radius: 50%;\n",
              "      cursor: pointer;\n",
              "      display: none;\n",
              "      fill: #1967D2;\n",
              "      height: 32px;\n",
              "      padding: 0 0 0 0;\n",
              "      width: 32px;\n",
              "    }\n",
              "\n",
              "    .colab-df-convert:hover {\n",
              "      background-color: #E2EBFA;\n",
              "      box-shadow: 0px 1px 2px rgba(60, 64, 67, 0.3), 0px 1px 3px 1px rgba(60, 64, 67, 0.15);\n",
              "      fill: #174EA6;\n",
              "    }\n",
              "\n",
              "    .colab-df-buttons div {\n",
              "      margin-bottom: 4px;\n",
              "    }\n",
              "\n",
              "    [theme=dark] .colab-df-convert {\n",
              "      background-color: #3B4455;\n",
              "      fill: #D2E3FC;\n",
              "    }\n",
              "\n",
              "    [theme=dark] .colab-df-convert:hover {\n",
              "      background-color: #434B5C;\n",
              "      box-shadow: 0px 1px 3px 1px rgba(0, 0, 0, 0.15);\n",
              "      filter: drop-shadow(0px 1px 2px rgba(0, 0, 0, 0.3));\n",
              "      fill: #FFFFFF;\n",
              "    }\n",
              "  </style>\n",
              "\n",
              "    <script>\n",
              "      const buttonEl =\n",
              "        document.querySelector('#df-be2f3d5f-d40a-4299-9588-b2f944876fe2 button.colab-df-convert');\n",
              "      buttonEl.style.display =\n",
              "        google.colab.kernel.accessAllowed ? 'block' : 'none';\n",
              "\n",
              "      async function convertToInteractive(key) {\n",
              "        const element = document.querySelector('#df-be2f3d5f-d40a-4299-9588-b2f944876fe2');\n",
              "        const dataTable =\n",
              "          await google.colab.kernel.invokeFunction('convertToInteractive',\n",
              "                                                    [key], {});\n",
              "        if (!dataTable) return;\n",
              "\n",
              "        const docLinkHtml = 'Like what you see? Visit the ' +\n",
              "          '<a target=\"_blank\" href=https://colab.research.google.com/notebooks/data_table.ipynb>data table notebook</a>'\n",
              "          + ' to learn more about interactive tables.';\n",
              "        element.innerHTML = '';\n",
              "        dataTable['output_type'] = 'display_data';\n",
              "        await google.colab.output.renderOutput(dataTable, element);\n",
              "        const docLink = document.createElement('div');\n",
              "        docLink.innerHTML = docLinkHtml;\n",
              "        element.appendChild(docLink);\n",
              "      }\n",
              "    </script>\n",
              "  </div>\n",
              "\n",
              "\n",
              "<div id=\"df-de4b458b-0d9f-478e-baff-389b1d41b688\">\n",
              "  <button class=\"colab-df-quickchart\" onclick=\"quickchart('df-de4b458b-0d9f-478e-baff-389b1d41b688')\"\n",
              "            title=\"Suggest charts.\"\n",
              "            style=\"display:none;\">\n",
              "\n",
              "<svg xmlns=\"http://www.w3.org/2000/svg\" height=\"24px\"viewBox=\"0 0 24 24\"\n",
              "     width=\"24px\">\n",
              "    <g>\n",
              "        <path d=\"M19 3H5c-1.1 0-2 .9-2 2v14c0 1.1.9 2 2 2h14c1.1 0 2-.9 2-2V5c0-1.1-.9-2-2-2zM9 17H7v-7h2v7zm4 0h-2V7h2v10zm4 0h-2v-4h2v4z\"/>\n",
              "    </g>\n",
              "</svg>\n",
              "  </button>\n",
              "\n",
              "<style>\n",
              "  .colab-df-quickchart {\n",
              "      --bg-color: #E8F0FE;\n",
              "      --fill-color: #1967D2;\n",
              "      --hover-bg-color: #E2EBFA;\n",
              "      --hover-fill-color: #174EA6;\n",
              "      --disabled-fill-color: #AAA;\n",
              "      --disabled-bg-color: #DDD;\n",
              "  }\n",
              "\n",
              "  [theme=dark] .colab-df-quickchart {\n",
              "      --bg-color: #3B4455;\n",
              "      --fill-color: #D2E3FC;\n",
              "      --hover-bg-color: #434B5C;\n",
              "      --hover-fill-color: #FFFFFF;\n",
              "      --disabled-bg-color: #3B4455;\n",
              "      --disabled-fill-color: #666;\n",
              "  }\n",
              "\n",
              "  .colab-df-quickchart {\n",
              "    background-color: var(--bg-color);\n",
              "    border: none;\n",
              "    border-radius: 50%;\n",
              "    cursor: pointer;\n",
              "    display: none;\n",
              "    fill: var(--fill-color);\n",
              "    height: 32px;\n",
              "    padding: 0;\n",
              "    width: 32px;\n",
              "  }\n",
              "\n",
              "  .colab-df-quickchart:hover {\n",
              "    background-color: var(--hover-bg-color);\n",
              "    box-shadow: 0 1px 2px rgba(60, 64, 67, 0.3), 0 1px 3px 1px rgba(60, 64, 67, 0.15);\n",
              "    fill: var(--button-hover-fill-color);\n",
              "  }\n",
              "\n",
              "  .colab-df-quickchart-complete:disabled,\n",
              "  .colab-df-quickchart-complete:disabled:hover {\n",
              "    background-color: var(--disabled-bg-color);\n",
              "    fill: var(--disabled-fill-color);\n",
              "    box-shadow: none;\n",
              "  }\n",
              "\n",
              "  .colab-df-spinner {\n",
              "    border: 2px solid var(--fill-color);\n",
              "    border-color: transparent;\n",
              "    border-bottom-color: var(--fill-color);\n",
              "    animation:\n",
              "      spin 1s steps(1) infinite;\n",
              "  }\n",
              "\n",
              "  @keyframes spin {\n",
              "    0% {\n",
              "      border-color: transparent;\n",
              "      border-bottom-color: var(--fill-color);\n",
              "      border-left-color: var(--fill-color);\n",
              "    }\n",
              "    20% {\n",
              "      border-color: transparent;\n",
              "      border-left-color: var(--fill-color);\n",
              "      border-top-color: var(--fill-color);\n",
              "    }\n",
              "    30% {\n",
              "      border-color: transparent;\n",
              "      border-left-color: var(--fill-color);\n",
              "      border-top-color: var(--fill-color);\n",
              "      border-right-color: var(--fill-color);\n",
              "    }\n",
              "    40% {\n",
              "      border-color: transparent;\n",
              "      border-right-color: var(--fill-color);\n",
              "      border-top-color: var(--fill-color);\n",
              "    }\n",
              "    60% {\n",
              "      border-color: transparent;\n",
              "      border-right-color: var(--fill-color);\n",
              "    }\n",
              "    80% {\n",
              "      border-color: transparent;\n",
              "      border-right-color: var(--fill-color);\n",
              "      border-bottom-color: var(--fill-color);\n",
              "    }\n",
              "    90% {\n",
              "      border-color: transparent;\n",
              "      border-bottom-color: var(--fill-color);\n",
              "    }\n",
              "  }\n",
              "</style>\n",
              "\n",
              "  <script>\n",
              "    async function quickchart(key) {\n",
              "      const quickchartButtonEl =\n",
              "        document.querySelector('#' + key + ' button');\n",
              "      quickchartButtonEl.disabled = true;  // To prevent multiple clicks.\n",
              "      quickchartButtonEl.classList.add('colab-df-spinner');\n",
              "      try {\n",
              "        const charts = await google.colab.kernel.invokeFunction(\n",
              "            'suggestCharts', [key], {});\n",
              "      } catch (error) {\n",
              "        console.error('Error during call to suggestCharts:', error);\n",
              "      }\n",
              "      quickchartButtonEl.classList.remove('colab-df-spinner');\n",
              "      quickchartButtonEl.classList.add('colab-df-quickchart-complete');\n",
              "    }\n",
              "    (() => {\n",
              "      let quickchartButtonEl =\n",
              "        document.querySelector('#df-de4b458b-0d9f-478e-baff-389b1d41b688 button');\n",
              "      quickchartButtonEl.style.display =\n",
              "        google.colab.kernel.accessAllowed ? 'block' : 'none';\n",
              "    })();\n",
              "  </script>\n",
              "</div>\n",
              "    </div>\n",
              "  </div>\n"
            ]
          },
          "metadata": {},
          "execution_count": 13
        }
      ]
    },
    {
      "cell_type": "markdown",
      "source": [
        "### Train test split"
      ],
      "metadata": {
        "id": "BhchRxv6weMR"
      }
    },
    {
      "cell_type": "code",
      "source": [
        "from sklearn.model_selection import train_test_split\n",
        "\n",
        "X_train, X_test, y_train, y_test = train_test_split(df.Message,df.spam,test_size=0.2)"
      ],
      "metadata": {
        "id": "d7V6E_pokItH"
      },
      "execution_count": 15,
      "outputs": []
    },
    {
      "cell_type": "code",
      "source": [
        "X_train.shape"
      ],
      "metadata": {
        "colab": {
          "base_uri": "https://localhost:8080/"
        },
        "id": "boYrO-3BkecC",
        "outputId": "2bbb7fc5-be6b-4a33-b8f7-184b7f7cf5ba"
      },
      "execution_count": 16,
      "outputs": [
        {
          "output_type": "execute_result",
          "data": {
            "text/plain": [
              "(4457,)"
            ]
          },
          "metadata": {},
          "execution_count": 16
        }
      ]
    },
    {
      "cell_type": "code",
      "source": [
        "X_test.shape"
      ],
      "metadata": {
        "colab": {
          "base_uri": "https://localhost:8080/"
        },
        "id": "qMo3dHSZmx6J",
        "outputId": "aa177b0a-6ed8-4078-fe79-dd95e18e81b6"
      },
      "execution_count": 17,
      "outputs": [
        {
          "output_type": "execute_result",
          "data": {
            "text/plain": [
              "(1115,)"
            ]
          },
          "metadata": {},
          "execution_count": 17
        }
      ]
    },
    {
      "cell_type": "code",
      "source": [
        "type(X_train)"
      ],
      "metadata": {
        "colab": {
          "base_uri": "https://localhost:8080/"
        },
        "id": "esgeWwLlm1PQ",
        "outputId": "4aeed253-58bc-45d6-a252-96edbb60042e"
      },
      "execution_count": 18,
      "outputs": [
        {
          "output_type": "execute_result",
          "data": {
            "text/plain": [
              "pandas.core.series.Series"
            ]
          },
          "metadata": {},
          "execution_count": 18
        }
      ]
    },
    {
      "cell_type": "code",
      "source": [
        "X_train[:4]"
      ],
      "metadata": {
        "colab": {
          "base_uri": "https://localhost:8080/"
        },
        "id": "uzEUoIJxm7wf",
        "outputId": "5715b2e8-3c15-4f9c-8493-d41102fb65db"
      },
      "execution_count": 21,
      "outputs": [
        {
          "output_type": "execute_result",
          "data": {
            "text/plain": [
              "4943    Wrong phone! This phone! I answer this one but...\n",
              "2568    Hey. For me there is no leave on friday. Wait ...\n",
              "1783    No dear i do have free messages without any re...\n",
              "3420    Welcome! Please reply with your AGE and GENDER...\n",
              "Name: Message, dtype: object"
            ]
          },
          "metadata": {},
          "execution_count": 21
        }
      ]
    },
    {
      "cell_type": "code",
      "source": [
        "type(y_train)"
      ],
      "metadata": {
        "colab": {
          "base_uri": "https://localhost:8080/"
        },
        "id": "Z0e6R3C4nBWd",
        "outputId": "466f56ff-263a-4200-82ae-f75435314030"
      },
      "execution_count": 22,
      "outputs": [
        {
          "output_type": "execute_result",
          "data": {
            "text/plain": [
              "pandas.core.series.Series"
            ]
          },
          "metadata": {},
          "execution_count": 22
        }
      ]
    },
    {
      "cell_type": "code",
      "source": [
        "y_train[:4]"
      ],
      "metadata": {
        "colab": {
          "base_uri": "https://localhost:8080/"
        },
        "id": "xzJ6YAbEnQcY",
        "outputId": "d06821fe-8bfb-4c5e-ecbd-e05b071a71a7"
      },
      "execution_count": 23,
      "outputs": [
        {
          "output_type": "execute_result",
          "data": {
            "text/plain": [
              "4943    0\n",
              "2568    0\n",
              "1783    0\n",
              "3420    1\n",
              "Name: spam, dtype: int64"
            ]
          },
          "metadata": {},
          "execution_count": 23
        }
      ]
    },
    {
      "cell_type": "code",
      "source": [
        "type(X_train.values)"
      ],
      "metadata": {
        "colab": {
          "base_uri": "https://localhost:8080/"
        },
        "id": "pjUFiCBVoMU_",
        "outputId": "b0aa63be-987e-405c-cc45-335fd2dfe6b8"
      },
      "execution_count": 26,
      "outputs": [
        {
          "output_type": "execute_result",
          "data": {
            "text/plain": [
              "numpy.ndarray"
            ]
          },
          "metadata": {},
          "execution_count": 26
        }
      ]
    },
    {
      "cell_type": "markdown",
      "source": [
        "### Create bag of words representation using CountVectorizer"
      ],
      "metadata": {
        "id": "mZP7An-Nwnyb"
      }
    },
    {
      "cell_type": "code",
      "source": [
        "from sklearn.feature_extraction.text import CountVectorizer\n",
        "\n",
        "v = CountVectorizer()\n",
        "\n",
        "X_train_cv = v.fit_transform(X_train.values)\n",
        "X_train_cv"
      ],
      "metadata": {
        "colab": {
          "base_uri": "https://localhost:8080/"
        },
        "id": "p-aueuQvnSfm",
        "outputId": "5a5bb380-ea33-4a97-e979-ae97cc54d73d"
      },
      "execution_count": 28,
      "outputs": [
        {
          "output_type": "execute_result",
          "data": {
            "text/plain": [
              "<4457x7774 sparse matrix of type '<class 'numpy.int64'>'\n",
              "\twith 59427 stored elements in Compressed Sparse Row format>"
            ]
          },
          "metadata": {},
          "execution_count": 28
        }
      ]
    },
    {
      "cell_type": "code",
      "source": [
        "X_train_cv.toarray()[:2][0]"
      ],
      "metadata": {
        "colab": {
          "base_uri": "https://localhost:8080/"
        },
        "id": "Gk9AMTbYn5uk",
        "outputId": "3107d79a-d56b-44c8-cc5f-6d56372e3cbb"
      },
      "execution_count": 31,
      "outputs": [
        {
          "output_type": "execute_result",
          "data": {
            "text/plain": [
              "array([0, 0, 0, ..., 0, 0, 0])"
            ]
          },
          "metadata": {},
          "execution_count": 31
        }
      ]
    },
    {
      "cell_type": "code",
      "source": [
        "X_train_cv.shape"
      ],
      "metadata": {
        "colab": {
          "base_uri": "https://localhost:8080/"
        },
        "id": "zkFuJYN9ocRn",
        "outputId": "5235af61-1ae6-41a9-beba-114b34fa591c"
      },
      "execution_count": 32,
      "outputs": [
        {
          "output_type": "execute_result",
          "data": {
            "text/plain": [
              "(4457, 7774)"
            ]
          },
          "metadata": {},
          "execution_count": 32
        }
      ]
    },
    {
      "cell_type": "code",
      "source": [
        "v.get_feature_names_out().shape"
      ],
      "metadata": {
        "colab": {
          "base_uri": "https://localhost:8080/"
        },
        "id": "FmDRXsJookaT",
        "outputId": "8a6ca1ab-6228-4b23-8f7c-e78d155cc1e7"
      },
      "execution_count": 35,
      "outputs": [
        {
          "output_type": "execute_result",
          "data": {
            "text/plain": [
              "(7774,)"
            ]
          },
          "metadata": {},
          "execution_count": 35
        }
      ]
    },
    {
      "cell_type": "code",
      "source": [
        "v.get_feature_names_out()[3062]"
      ],
      "metadata": {
        "colab": {
          "base_uri": "https://localhost:8080/",
          "height": 36
        },
        "id": "_TOGykr_pz0H",
        "outputId": "3b1c31c1-d9a2-4109-bd9a-a574d0027e5a"
      },
      "execution_count": 41,
      "outputs": [
        {
          "output_type": "execute_result",
          "data": {
            "text/plain": [
              "'ga'"
            ],
            "application/vnd.google.colaboratory.intrinsic+json": {
              "type": "string"
            }
          },
          "metadata": {},
          "execution_count": 41
        }
      ]
    },
    {
      "cell_type": "code",
      "source": [
        "v.vocabulary_"
      ],
      "metadata": {
        "colab": {
          "base_uri": "https://localhost:8080/"
        },
        "id": "0rvLmXDhox1M",
        "outputId": "4f9e67f3-8901-4d26-f096-f020bbf97064"
      },
      "execution_count": 39,
      "outputs": [
        {
          "output_type": "execute_result",
          "data": {
            "text/plain": [
              "{'wrong': 7640,\n",
              " 'phone': 5206,\n",
              " 'this': 6886,\n",
              " 'answer': 987,\n",
              " 'one': 4955,\n",
              " 'but': 1571,\n",
              " 'assume': 1115,\n",
              " 'the': 6846,\n",
              " 'other': 5016,\n",
              " 'is': 3747,\n",
              " 'people': 5163,\n",
              " 'don': 2402,\n",
              " 'well': 7472,\n",
              " 'hey': 3419,\n",
              " 'for': 2947,\n",
              " 'me': 4412,\n",
              " 'there': 6863,\n",
              " 'no': 4807,\n",
              " 'leave': 4075,\n",
              " 'on': 4949,\n",
              " 'friday': 3006,\n",
              " 'wait': 7375,\n",
              " 'will': 7536,\n",
              " 'ask': 1099,\n",
              " 'my': 4677,\n",
              " 'superior': 6635,\n",
              " 'and': 963,\n",
              " 'tell': 6781,\n",
              " 'you': 7720,\n",
              " 'dear': 2195,\n",
              " 'do': 2372,\n",
              " 'have': 3358,\n",
              " 'free': 2990,\n",
              " 'messages': 4464,\n",
              " 'without': 7565,\n",
              " 'any': 998,\n",
              " 'recharge': 5652,\n",
              " 'hi': 3424,\n",
              " 'welcome': 7470,\n",
              " 'please': 5268,\n",
              " 'reply': 5736,\n",
              " 'with': 7562,\n",
              " 'your': 7724,\n",
              " 'age': 862,\n",
              " 'gender': 3108,\n",
              " 'to': 6967,\n",
              " 'begin': 1305,\n",
              " '24m': 373,\n",
              " 'thk': 6887,\n",
              " 'dun': 2488,\n",
              " 'haf': 3298,\n",
              " 'hint': 3438,\n",
              " 'in': 3640,\n",
              " 'forum': 2969,\n",
              " 'already': 926,\n",
              " 'lor': 4218,\n",
              " 'cos': 2028,\n",
              " 'told': 6983,\n",
              " 'ron': 5837,\n",
              " 'darren': 2171,\n",
              " 'going': 3177,\n",
              " 'shuhui': 6159,\n",
              " 'all': 913,\n",
              " 'day': 2183,\n",
              " 'working': 7607,\n",
              " 'except': 2697,\n",
              " 'saturday': 5938,\n",
              " 'sunday': 6623,\n",
              " 'die': 2301,\n",
              " 'accidentally': 781,\n",
              " 'deleted': 2234,\n",
              " 'msg': 4626,\n",
              " 'suppose': 6642,\n",
              " 'put': 5529,\n",
              " 'sim': 6184,\n",
              " 'archive': 1056,\n",
              " 'haiz': 3307,\n",
              " 'so': 6303,\n",
              " 'sad': 5894,\n",
              " 'yar': 7684,\n",
              " 'he': 3369,\n",
              " 'quite': 5553,\n",
              " 'clever': 1849,\n",
              " 'aft': 851,\n",
              " 'many': 4356,\n",
              " 'guesses': 3275,\n",
              " 'got': 3206,\n",
              " 'bring': 1511,\n",
              " 'not': 4840,\n",
              " 'willing': 7537,\n",
              " 'go': 3166,\n",
              " 'aiya': 887,\n",
              " 'they': 6871,\n",
              " 'leona': 4093,\n",
              " 'still': 6506,\n",
              " 'attach': 1130,\n",
              " 'wat': 7419,\n",
              " 'just': 3887,\n",
              " 'wondering': 7594,\n",
              " 'others': 5017,\n",
              " 'took': 7003,\n",
              " 'off': 4907,\n",
              " 'then': 6858,\n",
              " 'she': 6090,\n",
              " 'buying': 1577,\n",
              " 'today': 6973,\n",
              " 'ìï': 7764,\n",
              " 'need': 4736,\n",
              " 'meh': 4436,\n",
              " 'new': 4768,\n",
              " 'message': 4462,\n",
              " 'call': 1603,\n",
              " '08718738034': 156,\n",
              " 'had': 3296,\n",
              " 'it': 3759,\n",
              " 'sabarish': 5889,\n",
              " 'asked': 1101,\n",
              " 'pain': 5075,\n",
              " 'urination': 7230,\n",
              " 'thing': 6876,\n",
              " 'else': 2570,\n",
              " 'really': 5631,\n",
              " 'hope': 3492,\n",
              " 'work': 7603,\n",
              " 'doesnt': 2385,\n",
              " 'get': 3123,\n",
              " 'stressful': 6540,\n",
              " 'gr8': 3217,\n",
              " 'know': 3972,\n",
              " 'we': 7438,\n",
              " 'watchin': 7423,\n",
              " 'at': 1122,\n",
              " 'lido': 4112,\n",
              " 'howz': 3526,\n",
              " 'fine': 2860,\n",
              " 'what': 7495,\n",
              " 'reckon': 5654,\n",
              " 'as': 1090,\n",
              " 'arrange': 1080,\n",
              " 'transport': 7048,\n",
              " 'if': 3599,\n",
              " 'can': 1629,\n",
              " 'thanks': 6833,\n",
              " 'only': 4960,\n",
              " 'once': 4953,\n",
              " 'after': 852,\n",
              " 'ill': 3613,\n",
              " 'obey': 4892,\n",
              " 'yours': 7728,\n",
              " 'tuition': 7099,\n",
              " '330': 450,\n",
              " 'hm': 3453,\n",
              " '1120': 276,\n",
              " '1205': 286,\n",
              " 'mind': 4493,\n",
              " 'important': 3631,\n",
              " 'information': 3675,\n",
              " 'orange': 4993,\n",
              " 'user': 7242,\n",
              " '0789xxxxxxx': 43,\n",
              " 'lucky': 4265,\n",
              " '2find': 397,\n",
              " 'out': 5027,\n",
              " 'why': 7522,\n",
              " 'log': 4191,\n",
              " 'onto': 4963,\n",
              " 'http': 3535,\n",
              " 'www': 7651,\n",
              " 'urawinner': 7223,\n",
              " 'com': 1908,\n",
              " 'fantastic': 2779,\n",
              " 'surprise': 6653,\n",
              " 'awaiting': 1174,\n",
              " 'alright': 927,\n",
              " 'goal': 3168,\n",
              " 'now': 4854,\n",
              " 'cha': 1716,\n",
              " 'quiteamuzing': 5554,\n",
              " 'thatåõscool': 6845,\n",
              " 'babe': 1197,\n",
              " 'marry': 4373,\n",
              " 'them': 6854,\n",
              " 'mean': 4415,\n",
              " 'come': 1914,\n",
              " 'chase': 1745,\n",
              " 'when': 7501,\n",
              " 'its': 3766,\n",
              " 'over': 5044,\n",
              " 'or': 4989,\n",
              " 'stated': 6478,\n",
              " 'watch': 7420,\n",
              " 'movies': 4616,\n",
              " 'want': 7399,\n",
              " 'urgent': 7226,\n",
              " 'mobile': 4550,\n",
              " 'number': 4868,\n",
              " 'has': 3348,\n",
              " 'been': 1295,\n",
              " 'awarded': 1177,\n",
              " '2000': 357,\n",
              " 'prize': 5441,\n",
              " 'guaranteed': 3268,\n",
              " '09061790121': 206,\n",
              " 'from': 3025,\n",
              " 'land': 4018,\n",
              " 'line': 4138,\n",
              " 'claim': 1828,\n",
              " '3030': 436,\n",
              " 'valid': 7263,\n",
              " '12hrs': 295,\n",
              " '150ppm': 315,\n",
              " 'doing': 2395,\n",
              " 'list': 4154,\n",
              " 'of': 4906,\n",
              " 'buyers': 1576,\n",
              " 'sorry': 6352,\n",
              " 'll': 4174,\n",
              " 'later': 4043,\n",
              " 'home': 3476,\n",
              " 'by': 1584,\n",
              " 'way': 7433,\n",
              " 'say': 5945,\n",
              " 'slowly': 6259,\n",
              " 'god': 3171,\n",
              " 'love': 4235,\n",
              " 'amp': 952,\n",
              " 'clean': 1842,\n",
              " 'heart': 3382,\n",
              " 'blood': 1402,\n",
              " 'send': 6027,\n",
              " 'ten': 6792,\n",
              " 'special': 6386,\n",
              " 'miracle': 4509,\n",
              " 'tomorrow': 6991,\n",
              " 'pls': 5275,\n",
              " 'hello': 3396,\n",
              " 'baby': 1200,\n",
              " 'did': 2296,\n",
              " 'back': 1205,\n",
              " 'mom': 4570,\n",
              " 'are': 1058,\n",
              " 'setting': 6052,\n",
              " 'up': 7204,\n",
              " 'computer': 1948,\n",
              " 'filling': 2847,\n",
              " 'belly': 1316,\n",
              " 'how': 3521,\n",
              " 'goes': 3173,\n",
              " 'loverboy': 4241,\n",
              " 'miss': 4516,\n",
              " 'sighs': 6171,\n",
              " 'that': 6841,\n",
              " 'week': 7458,\n",
              " 'time': 6935,\n",
              " 'youdoing': 7721,\n",
              " 'sar': 5925,\n",
              " 'xxx': 7669,\n",
              " 'wake': 7379,\n",
              " 'thanx': 6838,\n",
              " 'tau': 6744,\n",
              " 'piah': 5217,\n",
              " 'nice': 4781,\n",
              " 'ok': 4929,\n",
              " 'vl': 7335,\n",
              " 'adsense': 831,\n",
              " 'approved': 1042,\n",
              " 'remains': 5704,\n",
              " 'bro': 1518,\n",
              " 'amongst': 949,\n",
              " 'bros': 1523,\n",
              " 'text': 6816,\n",
              " 're': 5611,\n",
              " 'both': 1450,\n",
              " 'too': 7002,\n",
              " 'nite': 4800,\n",
              " 'maybe': 4406,\n",
              " 'westshore': 7489,\n",
              " 'hyde': 3569,\n",
              " 'park': 5109,\n",
              " 'village': 7315,\n",
              " 'place': 5247,\n",
              " 'near': 4726,\n",
              " 'house': 3516,\n",
              " 'was': 7412,\n",
              " 'farm': 2782,\n",
              " 'open': 4970,\n",
              " 'registered': 5687,\n",
              " 'optin': 4986,\n",
              " 'subscriber': 6585,\n",
              " 'ur': 7222,\n",
              " 'draw': 2440,\n",
              " '100': 262,\n",
              " 'gift': 3135,\n",
              " 'voucher': 7348,\n",
              " 'be': 1276,\n",
              " 'entered': 2609,\n",
              " 'receipt': 5643,\n",
              " 'correct': 2024,\n",
              " 'ans': 985,\n",
              " '80062': 640,\n",
              " 'whats': 7497,\n",
              " 'no1': 4808,\n",
              " 'bbc': 1264,\n",
              " 'charts': 1744,\n",
              " 'meant': 4419,\n",
              " 'opposed': 4981,\n",
              " 'drunken': 2470,\n",
              " 'night': 4787,\n",
              " 'before': 1301,\n",
              " 'shame': 6077,\n",
              " 'cld': 1841,\n",
              " 'meet': 4429,\n",
              " 'few': 2825,\n",
              " 'hrs': 3532,\n",
              " 'tomo': 6989,\n",
              " 'dislikes': 2351,\n",
              " 'bed': 1290,\n",
              " 'baaaaaaaabe': 1195,\n",
              " 'crave': 2071,\n",
              " 'goin': 3175,\n",
              " '2nite': 416,\n",
              " 'give': 3149,\n",
              " 'her': 3410,\n",
              " 'food': 2938,\n",
              " 'preferably': 5397,\n",
              " 'pap': 5093,\n",
              " 'very': 7292,\n",
              " 'loads': 4179,\n",
              " 'sugar': 6605,\n",
              " 'take': 6714,\n",
              " 'an': 959,\n",
              " 'hour': 3514,\n",
              " 'some': 6317,\n",
              " 'water': 7426,\n",
              " 'bye': 1586,\n",
              " 'fact': 2748,\n",
              " 'cleaning': 1843,\n",
              " 'shows': 6153,\n",
              " 'upset': 7218,\n",
              " 'priority': 5436,\n",
              " 'constantly': 1987,\n",
              " 'leaving': 4077,\n",
              " 'none': 4822,\n",
              " 'happening': 3333,\n",
              " 'til': 6932,\n",
              " 'here': 3411,\n",
              " 'though': 6896,\n",
              " 'arun': 1089,\n",
              " 'transfr': 7046,\n",
              " 'amt': 956,\n",
              " 'dai': 2151,\n",
              " 'da': 2147,\n",
              " 'resume': 5776,\n",
              " 'id': 3588,\n",
              " 'jay': 3807,\n",
              " 'says': 5947,\n",
              " 'lt': 4258,\n",
              " 'gt': 3265,\n",
              " 'hear': 3378,\n",
              " 'see': 6002,\n",
              " 'sundayish': 6624,\n",
              " 'around': 1078,\n",
              " 'looking': 4211,\n",
              " 'pick': 5219,\n",
              " 'xmas': 7662,\n",
              " 'story': 6530,\n",
              " 'peace': 5149,\n",
              " 'jesus': 3827,\n",
              " 'hav': 3356,\n",
              " 'blessed': 1389,\n",
              " 'month': 4586,\n",
              " 'ahead': 875,\n",
              " 'wish': 7555,\n",
              " 'merry': 4459,\n",
              " 'wife': 7530,\n",
              " 'knew': 3968,\n",
              " 'murder': 4661,\n",
              " 'exactly': 2693,\n",
              " 'think': 6878,\n",
              " 'girl': 3143,\n",
              " 'propose': 5484,\n",
              " 'seing': 6013,\n",
              " 'bloody': 1403,\n",
              " 'funky': 3050,\n",
              " 'shit': 6112,\n",
              " 'fucking': 3035,\n",
              " 'face': 2746,\n",
              " 'asssssholeeee': 1114,\n",
              " 'painful': 5076,\n",
              " 'words': 7602,\n",
              " 'thought': 6897,\n",
              " 'being': 1312,\n",
              " 'happy': 3339,\n",
              " 'most': 4600,\n",
              " 'toughest': 7025,\n",
              " 'earth': 2508,\n",
              " 'am': 937,\n",
              " 'joining': 3850,\n",
              " 'formally': 2963,\n",
              " 'keep': 3918,\n",
              " 'praying': 5389,\n",
              " 'talk': 6722,\n",
              " 'yes': 7703,\n",
              " 'started': 6472,\n",
              " 'requests': 5744,\n",
              " 'make': 4333,\n",
              " 'came': 1624,\n",
              " 'double': 2420,\n",
              " 'coins': 1891,\n",
              " 'factory': 2749,\n",
              " 'gotta': 3210,\n",
              " 'cash': 1675,\n",
              " 'nitros': 4802,\n",
              " 'wanna': 7397,\n",
              " 'laid': 4012,\n",
              " 'real': 5622,\n",
              " 'dogging': 2391,\n",
              " 'locations': 4185,\n",
              " 'sent': 6036,\n",
              " 'direct': 2328,\n",
              " 'join': 3848,\n",
              " 'uk': 7145,\n",
              " 'largest': 4035,\n",
              " 'network': 4760,\n",
              " 'txt': 7118,\n",
              " '69696': 592,\n",
              " 'nyt': 4884,\n",
              " 'ec2a': 2521,\n",
              " '3lp': 470,\n",
              " '50': 540,\n",
              " 'done': 2404,\n",
              " 'princess': 5430,\n",
              " 'kitty': 3963,\n",
              " 'shaved': 6087,\n",
              " 'natural': 4715,\n",
              " 'beautiful': 1282,\n",
              " 'truth': 7083,\n",
              " 'against': 860,\n",
              " 'gravity': 3234,\n",
              " 'read': 5617,\n",
              " 'carefully': 1658,\n",
              " 'our': 5024,\n",
              " 'feels': 2813,\n",
              " 'light': 4121,\n",
              " 'someone': 6321,\n",
              " 'heavy': 3388,\n",
              " 'leaves': 4076,\n",
              " 'good': 3189,\n",
              " 'tacos': 6705,\n",
              " 'rajas': 5575,\n",
              " 'burrito': 1564,\n",
              " 'right': 5803,\n",
              " 'erutupalam': 2639,\n",
              " 'thandiyachu': 6830,\n",
              " 'superb': 6634,\n",
              " 'grateful': 3231,\n",
              " 'dont': 2406,\n",
              " 'everything': 2675,\n",
              " 'means': 4418,\n",
              " 'opportunity': 4980,\n",
              " 'happier': 3335,\n",
              " 'than': 6829,\n",
              " 'saw': 5944,\n",
              " 'days': 2184,\n",
              " 'ago': 871,\n",
              " 'guy': 3285,\n",
              " 'wants': 7402,\n",
              " 'sell': 6019,\n",
              " 'wifi': 7531,\n",
              " '3g': 466,\n",
              " 'blanked': 1384,\n",
              " 'him': 3435,\n",
              " 'customer': 2132,\n",
              " 'service': 6047,\n",
              " 'representative': 5741,\n",
              " '0800': 49,\n",
              " '169': 326,\n",
              " '6031': 573,\n",
              " 'between': 1336,\n",
              " '10am': 270,\n",
              " '9pm': 737,\n",
              " 'won': 7589,\n",
              " '1000': 263,\n",
              " '5000': 542,\n",
              " 'addie': 815,\n",
              " 'school': 5958,\n",
              " 'tues': 7096,\n",
              " 'wed': 7451,\n",
              " 'much': 4644,\n",
              " 'fights': 2839,\n",
              " 'tonight': 6998,\n",
              " 'mob': 4548,\n",
              " 'bt': 1538,\n",
              " 'txting': 7123,\n",
              " 'gravel': 3233,\n",
              " '69888': 596,\n",
              " 'nt': 4860,\n",
              " '31p': 445,\n",
              " '150p': 311,\n",
              " 'ever': 2667,\n",
              " 'figure': 2840,\n",
              " 'where': 7505,\n",
              " 'years': 7693,\n",
              " 'convey': 2004,\n",
              " 'regards': 5685,\n",
              " 'ma': 4297,\n",
              " 'ashley': 1094,\n",
              " 'said': 5902,\n",
              " 'went': 7477,\n",
              " 'sleep': 6238,\n",
              " 'anything': 1006,\n",
              " 'splashmobile': 6416,\n",
              " 'choose': 1808,\n",
              " '1000s': 265,\n",
              " 'tones': 6993,\n",
              " 'each': 2500,\n",
              " 'wk': 7570,\n",
              " 'subscrition': 6588,\n",
              " 'weekly': 7462,\n",
              " 'costing': 2032,\n",
              " '300p': 435,\n",
              " 'credit': 2080,\n",
              " 'kick': 3938,\n",
              " 'enjoy': 2600,\n",
              " 'darling': 2169,\n",
              " 'would': 7624,\n",
              " 'chat': 1747,\n",
              " 'look': 4207,\n",
              " 'like': 4125,\n",
              " 'sexy': 6064,\n",
              " 'win': 7538,\n",
              " 'music': 4665,\n",
              " 'vouchers': 7349,\n",
              " 'every': 2668,\n",
              " 'starting': 6473,\n",
              " 'word': 7601,\n",
              " '87066': 691,\n",
              " 'tscs': 7089,\n",
              " 'ldew': 4062,\n",
              " 'skillgame': 6223,\n",
              " '1winaweek': 352,\n",
              " 'age16': 863,\n",
              " '150ppermesssubscription': 314,\n",
              " 'oh': 4924,\n",
              " 'ah': 873,\n",
              " 'meeting': 4431,\n",
              " 'ì_': 7762,\n",
              " 'depends': 2253,\n",
              " 'wan': 7394,\n",
              " 'japanese': 3803,\n",
              " 'proverb': 5489,\n",
              " 'must': 4668,\n",
              " 'indian': 3663,\n",
              " 'version': 7291,\n",
              " 'let': 4099,\n",
              " 'finally': 2855,\n",
              " 'kerala': 3925,\n",
              " 'stop': 6519,\n",
              " 'strike': 6545,\n",
              " 'finished': 2865,\n",
              " 'yet': 7706,\n",
              " 'something': 6326,\n",
              " 'laugh': 4047,\n",
              " 'loud': 4230,\n",
              " 'spontaneously': 6426,\n",
              " 'care': 1652,\n",
              " 'feel': 2809,\n",
              " 'probably': 5447,\n",
              " 'best': 1328,\n",
              " 'friends': 3010,\n",
              " 'goodevening': 3190,\n",
              " 'b4': 1189,\n",
              " 'thursday': 6919,\n",
              " 'sure': 6647,\n",
              " 'alex': 905,\n",
              " 'knows': 3974,\n",
              " 'his': 3441,\n",
              " 'birthday': 1369,\n",
              " 'fifteen': 2834,\n",
              " 'minutes': 4507,\n",
              " 'far': 2781,\n",
              " 'concerned': 1957,\n",
              " 'bot': 1449,\n",
              " 'notes': 4843,\n",
              " 'oredi': 5000,\n",
              " 'juz': 3891,\n",
              " 'rem': 5702,\n",
              " 'ass': 1109,\n",
              " 'south': 6368,\n",
              " 'tampa': 6732,\n",
              " 'kegger': 3921,\n",
              " 'lol': 4198,\n",
              " 'were': 7480,\n",
              " 'mad': 4307,\n",
              " 'first': 2876,\n",
              " 'woke': 7585,\n",
              " 'gave': 3094,\n",
              " 'gobi': 3170,\n",
              " 'arts': 1087,\n",
              " 'college': 1903,\n",
              " 'sounds': 6363,\n",
              " 'posted': 5353,\n",
              " '0776xxxxxxx': 30,\n",
              " 've': 7281,\n",
              " 'invited': 3727,\n",
              " 'xchat': 7659,\n",
              " 'final': 2853,\n",
              " 'attempt': 1132,\n",
              " 'contact': 1988,\n",
              " '86688': 688,\n",
              " 'msgrcvdhg': 4631,\n",
              " 'suite342': 6611,\n",
              " '2lands': 404,\n",
              " 'row': 5849,\n",
              " 'w1j6hl': 7359,\n",
              " 'ldn': 4063,\n",
              " '18yrs': 331,\n",
              " 'de': 2189,\n",
              " 'wewa': 7492,\n",
              " '130': 298,\n",
              " 'iriver': 3740,\n",
              " '255': 377,\n",
              " '128': 293,\n",
              " 'mb': 4407,\n",
              " 'film': 2849,\n",
              " 'plz': 5282,\n",
              " 'bslvyl': 1535,\n",
              " 'via': 7295,\n",
              " 'fullonsms': 3043,\n",
              " 'about': 759,\n",
              " 'menu': 4455,\n",
              " 'noon': 4825,\n",
              " 'thats': 6843,\n",
              " 'cool': 2012,\n",
              " 'cover': 2055,\n",
              " 'hot': 3508,\n",
              " 'sticky': 6504,\n",
              " 'cum': 2117,\n",
              " 'shall': 6076,\n",
              " 'buy': 1574,\n",
              " 'speak': 6384,\n",
              " 'bcaz': 1267,\n",
              " 'problem': 5448,\n",
              " 'listen': 4156,\n",
              " 'cann': 1638,\n",
              " 'voice': 7339,\n",
              " 'calls': 1618,\n",
              " 'stupid': 6569,\n",
              " 'possible': 5348,\n",
              " 'sitting': 6212,\n",
              " 'mu': 4642,\n",
              " 'waiting': 7378,\n",
              " 'everyone': 2672,\n",
              " 'suite': 6610,\n",
              " 'shower': 6149,\n",
              " 'add': 811,\n",
              " 'spice': 6404,\n",
              " 'little': 4165,\n",
              " 'darlings': 2170,\n",
              " 'coffee': 1887,\n",
              " 'run': 5876,\n",
              " 'believe': 1313,\n",
              " 'û_': 7766,\n",
              " 'didn': 2298,\n",
              " 'post': 5350,\n",
              " 'wrote': 7642,\n",
              " 'times': 6936,\n",
              " 'ritten': 5818,\n",
              " 'stuff': 6564,\n",
              " 'sit': 6207,\n",
              " 'feeling': 2811,\n",
              " 'angry': 969,\n",
              " 'left': 4081,\n",
              " 'hit': 3443,\n",
              " 'wasn': 7413,\n",
              " 'checked': 1759,\n",
              " 'car': 1648,\n",
              " 'bored': 1442,\n",
              " 'wouldn': 7626,\n",
              " 'fold': 2926,\n",
              " 'laundry': 4051,\n",
              " 'etc': 2651,\n",
              " 'least': 4074,\n",
              " 'lay': 4057,\n",
              " 'man': 4341,\n",
              " 'missed': 4518,\n",
              " 'great': 3239,\n",
              " 'bimbo': 1360,\n",
              " 'ugo': 7140,\n",
              " 'numbers': 4869,\n",
              " 'appreciate': 1037,\n",
              " 'safe': 5897,\n",
              " 'wa': 7365,\n",
              " 'efficient': 2543,\n",
              " 'gee': 3104,\n",
              " 'secret': 5992,\n",
              " 'admirer': 823,\n",
              " 'who': 7516,\n",
              " 'find': 2858,\n",
              " 'reveal': 5785,\n",
              " 'thinks': 6881,\n",
              " '09058094599': 185,\n",
              " 'anymore': 1001,\n",
              " 'nothing': 4845,\n",
              " 'li': 4105,\n",
              " 'hai': 3301,\n",
              " 'lecturer': 4080,\n",
              " 'repeating': 5729,\n",
              " 'last': 4038,\n",
              " 'weeks': 7463,\n",
              " 'waste': 7416,\n",
              " 'fuck': 3032,\n",
              " 'happened': 3331,\n",
              " 'never': 4764,\n",
              " 'yo': 7715,\n",
              " 'gonna': 3187,\n",
              " 'stock': 6509,\n",
              " 'trying': 7086,\n",
              " 'dubsack': 2478,\n",
              " 'jos': 3863,\n",
              " 'wana': 7396,\n",
              " 'abt': 766,\n",
              " 'concentrate': 1953,\n",
              " 'papers': 5095,\n",
              " 'urself': 7234,\n",
              " 'tmr': 6961,\n",
              " 'fancy': 2776,\n",
              " 'drink': 2448,\n",
              " 'boy': 1477,\n",
              " 'loved': 4236,\n",
              " 'gal': 3068,\n",
              " 'propsd': 5485,\n",
              " 'didnt': 2299,\n",
              " 'gv': 3287,\n",
              " 'lv': 4280,\n",
              " 'lttrs': 4261,\n",
              " 'frnds': 3018,\n",
              " 'threw': 6904,\n",
              " 'thm': 6888,\n",
              " 'again': 859,\n",
              " 'decided': 2205,\n",
              " 'aproach': 1048,\n",
              " 'dt': 2475,\n",
              " 'truck': 7075,\n",
              " 'speeding': 6396,\n",
              " 'towards': 7027,\n",
              " 'wn': 7579,\n",
              " 'ran': 5586,\n",
              " 'hell': 3394,\n",
              " 'saved': 5942,\n",
              " 'hw': 3568,\n",
              " 'cn': 1874,\n",
              " 'fast': 2785,\n",
              " 'replied': 5734,\n",
              " 'boost': 1440,\n",
              " 'energy': 2593,\n",
              " 'instantly': 3700,\n",
              " 'shouted': 6143,\n",
              " 'thy': 6922,\n",
              " 'lived': 4167,\n",
              " 'happily': 3337,\n",
              " '2gthr': 401,\n",
              " 'drinking': 2450,\n",
              " 'evrydy': 2689,\n",
              " 'moral': 4592,\n",
              " 'hv': 3565,\n",
              " 'msgs': 4632,\n",
              " 'gud': 3270,\n",
              " 'ni8': 4779,\n",
              " 'afternoon': 854,\n",
              " 'luck': 4263,\n",
              " 'sweetie': 6678,\n",
              " 'across': 798,\n",
              " 'sea': 5983,\n",
              " 'smile': 6273,\n",
              " 'seeing': 6004,\n",
              " 'weird': 7467,\n",
              " 'bein': 1311,\n",
              " 'woah': 7583,\n",
              " 'realising': 5626,\n",
              " 'actually': 809,\n",
              " 'reasonable': 5636,\n",
              " 'oi': 4925,\n",
              " 'ami': 943,\n",
              " 'parchi': 5103,\n",
              " 'na': 4684,\n",
              " 'kicchu': 3937,\n",
              " 'kaaj': 3895,\n",
              " 'korte': 3985,\n",
              " 'iccha': 3582,\n",
              " 'korche': 3982,\n",
              " 'ta': 6700,\n",
              " 'tul': 7100,\n",
              " 'misbehaved': 4512,\n",
              " 'hurt': 3558,\n",
              " 'slap': 6236,\n",
              " 'bcoz': 1272,\n",
              " 'fault': 2794,\n",
              " 'basically': 1248,\n",
              " 'pocked': 5300,\n",
              " 'orh': 5006,\n",
              " 'tot': 7018,\n",
              " 'hospital': 3505,\n",
              " 'return': 5780,\n",
              " 'evening': 2662,\n",
              " 'private': 5439,\n",
              " '2003': 358,\n",
              " 'account': 787,\n",
              " 'statement': 6479,\n",
              " '07808247860': 37,\n",
              " '800': 638,\n",
              " 'un': 7156,\n",
              " 'redeemed': 5666,\n",
              " 'points': 5308,\n",
              " '08719899229': 164,\n",
              " 'identifier': 3594,\n",
              " 'code': 1886,\n",
              " '40411': 487,\n",
              " 'expires': 2724,\n",
              " '06': 19,\n",
              " '11': 275,\n",
              " '04': 14,\n",
              " 'imin': 3623,\n",
              " 'town': 7028,\n",
              " 'dontmatter': 2408,\n",
              " 'urgoin': 7229,\n",
              " 'outl8r': 5034,\n",
              " 'mmm': 4538,\n",
              " 'yummy': 7737,\n",
              " 'jolt': 3857,\n",
              " 'suzy': 6661,\n",
              " 'ya': 7677,\n",
              " 'dot': 2419,\n",
              " 'live': 4166,\n",
              " 'sex': 6060,\n",
              " 'video': 7303,\n",
              " 'sexiest': 6061,\n",
              " 'dirtiest': 2333,\n",
              " 'girls': 3146,\n",
              " 'details': 2273,\n",
              " 'horny': 3500,\n",
              " '89070': 707,\n",
              " 'cancel': 1633,\n",
              " 'huh': 3544,\n",
              " 'late': 4040,\n",
              " 'fr': 2981,\n",
              " 'dinner': 2325,\n",
              " 'aaooooright': 746,\n",
              " 'considering': 1983,\n",
              " 'mah': 4320,\n",
              " 'hiya': 3449,\n",
              " 'coming': 1919,\n",
              " 'weekend': 7460,\n",
              " 'next': 4777,\n",
              " 'themob': 6857,\n",
              " 'link': 4144,\n",
              " 'premium': 5401,\n",
              " 'pink': 5236,\n",
              " 'panther': 5090,\n",
              " 'game': 3073,\n",
              " 'sugababes': 6603,\n",
              " 'crazy': 2073,\n",
              " 'zebra': 7747,\n",
              " 'animation': 971,\n",
              " 'badass': 1208,\n",
              " 'hoody': 3487,\n",
              " 'wallpaper': 7389,\n",
              " '09061749602': 205,\n",
              " 'landline': 4020,\n",
              " 'complimentary': 1944,\n",
              " 'tenerife': 6795,\n",
              " 'holiday': 3471,\n",
              " '10': 261,\n",
              " '000': 1,\n",
              " 'await': 1173,\n",
              " 'collection': 1901,\n",
              " 'sae': 5895,\n",
              " 'cs': 2103,\n",
              " 'box': 1462,\n",
              " '528': 554,\n",
              " 'hp20': 3528,\n",
              " '1yf': 354,\n",
              " '18': 328,\n",
              " 'bout': 1458,\n",
              " '30ish': 438,\n",
              " 'almost': 922,\n",
              " 'wif': 7529,\n",
              " 'sleeping': 6240,\n",
              " 'nap': 4702,\n",
              " 'yup': 7742,\n",
              " 'liao': 4106,\n",
              " 'picking': 5221,\n",
              " 'ard': 1057,\n",
              " 'smth': 6288,\n",
              " 'mark': 4365,\n",
              " 'works': 7609,\n",
              " 'gets': 3127,\n",
              " 'afterwards': 856,\n",
              " 'freemsg': 2997,\n",
              " '86888': 689,\n",
              " 'reward': 5791,\n",
              " 'hours': 3515,\n",
              " 'use': 7238,\n",
              " 'subscribe6gbp': 6583,\n",
              " 'mnth': 4544,\n",
              " 'inc': 3642,\n",
              " '3hrs': 468,\n",
              " '16': 323,\n",
              " 'txtstop': 7126,\n",
              " 'practising': 5379,\n",
              " 'curtsey': 2127,\n",
              " 'eh': 2550,\n",
              " 'laptop': 4031,\n",
              " 'lei': 4088,\n",
              " 'mon': 4574,\n",
              " 'muz': 4674,\n",
              " 'print': 5431,\n",
              " 'outs': 5037,\n",
              " 'tons': 7001,\n",
              " 'thru': 6913,\n",
              " 'paypal': 5145,\n",
              " 'voila': 7341,\n",
              " 'money': 4577,\n",
              " 'life': 4115,\n",
              " 'pockets': 5302,\n",
              " 'gone': 3185,\n",
              " 'into': 3719,\n",
              " 'info': 3673,\n",
              " 'hasn': 3350,\n",
              " 'seen': 6009,\n",
              " 'down': 2426,\n",
              " 'gently': 3116,\n",
              " 'repeat': 5728,\n",
              " 'instructions': 3703,\n",
              " 'road': 5820,\n",
              " 'name': 4694,\n",
              " 'club': 1866,\n",
              " 'fink': 2868,\n",
              " 'met': 4469,\n",
              " '2day': 393,\n",
              " 'wiv': 7569,\n",
              " 'area': 1059,\n",
              " '09099726553': 255,\n",
              " 'promised': 5472,\n",
              " 'carlie': 1662,\n",
              " 'callså': 1620,\n",
              " 'minmobsmore': 4499,\n",
              " 'lkpobox177hp51fl': 4173,\n",
              " 'party': 5119,\n",
              " 'nichols': 4782,\n",
              " 'damn': 2154,\n",
              " 'goodmorning': 3193,\n",
              " 'ga': 3062,\n",
              " 'six': 6216,\n",
              " 'chances': 1726,\n",
              " '20': 355,\n",
              " 'pounds': 5362,\n",
              " 'csh11': 2106,\n",
              " '87575': 698,\n",
              " 'cost': 2030,\n",
              " '6days': 600,\n",
              " 'tsandcs': 7088,\n",
              " 'apply': 1032,\n",
              " 'hl': 3450,\n",
              " 'takin': 6718,\n",
              " 'yeah': 7691,\n",
              " 'question': 5546,\n",
              " 'jane': 3800,\n",
              " 'babes': 1198,\n",
              " 'wrk': 7634,\n",
              " 'lst': 4257,\n",
              " 'foned': 2937,\n",
              " 'chuck': 1818,\n",
              " 'finish': 2863,\n",
              " 'ummmmmaah': 7155,\n",
              " 'returns': 5783,\n",
              " 'sweet': 6675,\n",
              " 'big': 1351,\n",
              " 'hockey': 3462,\n",
              " 'elections': 2565,\n",
              " 'shouldn': 6142,\n",
              " 'longer': 4205,\n",
              " 'sis': 6204,\n",
              " 'catching': 1687,\n",
              " 'show': 6147,\n",
              " 'watching': 7424,\n",
              " 'hard': 3340,\n",
              " '121': 288,\n",
              " '60p': 574,\n",
              " 'min': 4490,\n",
              " 'connect': 1974,\n",
              " '09094646899': 252,\n",
              " 'cheap': 1752,\n",
              " 'biggest': 1353,\n",
              " 'vu': 7353,\n",
              " 'bcm1896wc1n3xx': 1270,\n",
              " 'include': 3647,\n",
              " 'these': 6865,\n",
              " 'fantasy': 2780,\n",
              " 'football': 2943,\n",
              " ...}"
            ]
          },
          "metadata": {},
          "execution_count": 39
        }
      ]
    },
    {
      "cell_type": "code",
      "source": [
        "X_train_np = X_train_cv.toarray()\n",
        "X_train_np[0]"
      ],
      "metadata": {
        "colab": {
          "base_uri": "https://localhost:8080/"
        },
        "id": "4RrzzHKVo4JW",
        "outputId": "59d140b0-f7d8-44f5-c1dc-82638459bcf4"
      },
      "execution_count": 47,
      "outputs": [
        {
          "output_type": "execute_result",
          "data": {
            "text/plain": [
              "array([0, 0, 0, ..., 0, 0, 0])"
            ]
          },
          "metadata": {},
          "execution_count": 47
        }
      ]
    },
    {
      "cell_type": "code",
      "source": [
        "np.where(X_train_np[0]!=0)"
      ],
      "metadata": {
        "colab": {
          "base_uri": "https://localhost:8080/"
        },
        "id": "oG3aQNHpqLH7",
        "outputId": "6a2df5c7-19d4-4efb-bc16-a7113c06137c"
      },
      "execution_count": 57,
      "outputs": [
        {
          "output_type": "execute_result",
          "data": {
            "text/plain": [
              "(array([ 987, 1115, 1571, 2402, 3747, 4955, 5016, 5163, 5206, 6846, 6886,\n",
              "        7472, 7640]),)"
            ]
          },
          "metadata": {},
          "execution_count": 57
        }
      ]
    },
    {
      "cell_type": "code",
      "source": [
        "X_train[:4][1783]"
      ],
      "metadata": {
        "colab": {
          "base_uri": "https://localhost:8080/",
          "height": 36
        },
        "id": "pVOO38VFqmI-",
        "outputId": "4f868787-8e61-4028-e996-1274631875ea"
      },
      "execution_count": 52,
      "outputs": [
        {
          "output_type": "execute_result",
          "data": {
            "text/plain": [
              "'No dear i do have free messages without any recharge. Hi hi hi'"
            ],
            "application/vnd.google.colaboratory.intrinsic+json": {
              "type": "string"
            }
          },
          "metadata": {},
          "execution_count": 52
        }
      ]
    },
    {
      "cell_type": "code",
      "source": [
        "X_train[0]"
      ],
      "metadata": {
        "colab": {
          "base_uri": "https://localhost:8080/",
          "height": 36
        },
        "id": "w-GSFYnXqxNe",
        "outputId": "4e4eea79-816f-434c-e081-af11e78f764f"
      },
      "execution_count": 63,
      "outputs": [
        {
          "output_type": "execute_result",
          "data": {
            "text/plain": [
              "'Go until jurong point, crazy.. Available only in bugis n great world la e buffet... Cine there got amore wat...'"
            ],
            "application/vnd.google.colaboratory.intrinsic+json": {
              "type": "string"
            }
          },
          "metadata": {},
          "execution_count": 63
        }
      ]
    },
    {
      "cell_type": "markdown",
      "source": [
        "### Train the naive bayes model"
      ],
      "metadata": {
        "id": "l0S4mibvwzAa"
      }
    },
    {
      "cell_type": "code",
      "source": [
        "from sklearn.naive_bayes import MultinomialNB\n",
        "\n",
        "model = MultinomialNB()\n",
        "model.fit(X_train_cv,y_train)"
      ],
      "metadata": {
        "colab": {
          "base_uri": "https://localhost:8080/",
          "height": 74
        },
        "id": "8Nsydxg0rC0w",
        "outputId": "b0c1b767-e955-4cce-e6e8-1ef82e8ccc4d"
      },
      "execution_count": 71,
      "outputs": [
        {
          "output_type": "execute_result",
          "data": {
            "text/plain": [
              "MultinomialNB()"
            ],
            "text/html": [
              "<style>#sk-container-id-1 {color: black;background-color: white;}#sk-container-id-1 pre{padding: 0;}#sk-container-id-1 div.sk-toggleable {background-color: white;}#sk-container-id-1 label.sk-toggleable__label {cursor: pointer;display: block;width: 100%;margin-bottom: 0;padding: 0.3em;box-sizing: border-box;text-align: center;}#sk-container-id-1 label.sk-toggleable__label-arrow:before {content: \"▸\";float: left;margin-right: 0.25em;color: #696969;}#sk-container-id-1 label.sk-toggleable__label-arrow:hover:before {color: black;}#sk-container-id-1 div.sk-estimator:hover label.sk-toggleable__label-arrow:before {color: black;}#sk-container-id-1 div.sk-toggleable__content {max-height: 0;max-width: 0;overflow: hidden;text-align: left;background-color: #f0f8ff;}#sk-container-id-1 div.sk-toggleable__content pre {margin: 0.2em;color: black;border-radius: 0.25em;background-color: #f0f8ff;}#sk-container-id-1 input.sk-toggleable__control:checked~div.sk-toggleable__content {max-height: 200px;max-width: 100%;overflow: auto;}#sk-container-id-1 input.sk-toggleable__control:checked~label.sk-toggleable__label-arrow:before {content: \"▾\";}#sk-container-id-1 div.sk-estimator input.sk-toggleable__control:checked~label.sk-toggleable__label {background-color: #d4ebff;}#sk-container-id-1 div.sk-label input.sk-toggleable__control:checked~label.sk-toggleable__label {background-color: #d4ebff;}#sk-container-id-1 input.sk-hidden--visually {border: 0;clip: rect(1px 1px 1px 1px);clip: rect(1px, 1px, 1px, 1px);height: 1px;margin: -1px;overflow: hidden;padding: 0;position: absolute;width: 1px;}#sk-container-id-1 div.sk-estimator {font-family: monospace;background-color: #f0f8ff;border: 1px dotted black;border-radius: 0.25em;box-sizing: border-box;margin-bottom: 0.5em;}#sk-container-id-1 div.sk-estimator:hover {background-color: #d4ebff;}#sk-container-id-1 div.sk-parallel-item::after {content: \"\";width: 100%;border-bottom: 1px solid gray;flex-grow: 1;}#sk-container-id-1 div.sk-label:hover label.sk-toggleable__label {background-color: #d4ebff;}#sk-container-id-1 div.sk-serial::before {content: \"\";position: absolute;border-left: 1px solid gray;box-sizing: border-box;top: 0;bottom: 0;left: 50%;z-index: 0;}#sk-container-id-1 div.sk-serial {display: flex;flex-direction: column;align-items: center;background-color: white;padding-right: 0.2em;padding-left: 0.2em;position: relative;}#sk-container-id-1 div.sk-item {position: relative;z-index: 1;}#sk-container-id-1 div.sk-parallel {display: flex;align-items: stretch;justify-content: center;background-color: white;position: relative;}#sk-container-id-1 div.sk-item::before, #sk-container-id-1 div.sk-parallel-item::before {content: \"\";position: absolute;border-left: 1px solid gray;box-sizing: border-box;top: 0;bottom: 0;left: 50%;z-index: -1;}#sk-container-id-1 div.sk-parallel-item {display: flex;flex-direction: column;z-index: 1;position: relative;background-color: white;}#sk-container-id-1 div.sk-parallel-item:first-child::after {align-self: flex-end;width: 50%;}#sk-container-id-1 div.sk-parallel-item:last-child::after {align-self: flex-start;width: 50%;}#sk-container-id-1 div.sk-parallel-item:only-child::after {width: 0;}#sk-container-id-1 div.sk-dashed-wrapped {border: 1px dashed gray;margin: 0 0.4em 0.5em 0.4em;box-sizing: border-box;padding-bottom: 0.4em;background-color: white;}#sk-container-id-1 div.sk-label label {font-family: monospace;font-weight: bold;display: inline-block;line-height: 1.2em;}#sk-container-id-1 div.sk-label-container {text-align: center;}#sk-container-id-1 div.sk-container {/* jupyter's `normalize.less` sets `[hidden] { display: none; }` but bootstrap.min.css set `[hidden] { display: none !important; }` so we also need the `!important` here to be able to override the default hidden behavior on the sphinx rendered scikit-learn.org. See: https://github.com/scikit-learn/scikit-learn/issues/21755 */display: inline-block !important;position: relative;}#sk-container-id-1 div.sk-text-repr-fallback {display: none;}</style><div id=\"sk-container-id-1\" class=\"sk-top-container\"><div class=\"sk-text-repr-fallback\"><pre>MultinomialNB()</pre><b>In a Jupyter environment, please rerun this cell to show the HTML representation or trust the notebook. <br />On GitHub, the HTML representation is unable to render, please try loading this page with nbviewer.org.</b></div><div class=\"sk-container\" hidden><div class=\"sk-item\"><div class=\"sk-estimator sk-toggleable\"><input class=\"sk-toggleable__control sk-hidden--visually\" id=\"sk-estimator-id-1\" type=\"checkbox\" checked><label for=\"sk-estimator-id-1\" class=\"sk-toggleable__label sk-toggleable__label-arrow\">MultinomialNB</label><div class=\"sk-toggleable__content\"><pre>MultinomialNB()</pre></div></div></div></div></div>"
            ]
          },
          "metadata": {},
          "execution_count": 71
        }
      ]
    },
    {
      "cell_type": "code",
      "source": [
        "X_test_cv = v.transform(X_test)"
      ],
      "metadata": {
        "id": "CcN0GLMcsmJC"
      },
      "execution_count": 74,
      "outputs": []
    },
    {
      "cell_type": "markdown",
      "source": [
        "### Evaluate Performance"
      ],
      "metadata": {
        "id": "F81n8lgSxJvd"
      }
    },
    {
      "cell_type": "code",
      "source": [
        "from sklearn.metrics import classification_report\n",
        "\n",
        "y_pred = model.predict(X_test_cv)\n",
        "\n",
        "print(classification_report(y_test, y_pred))"
      ],
      "metadata": {
        "colab": {
          "base_uri": "https://localhost:8080/"
        },
        "id": "4rJhUn8Iud2C",
        "outputId": "e9269d74-9452-4cf9-c767-1b205d2f7d85"
      },
      "execution_count": 75,
      "outputs": [
        {
          "output_type": "stream",
          "name": "stdout",
          "text": [
            "              precision    recall  f1-score   support\n",
            "\n",
            "           0       0.99      0.99      0.99       959\n",
            "           1       0.96      0.94      0.95       156\n",
            "\n",
            "    accuracy                           0.99      1115\n",
            "   macro avg       0.98      0.97      0.97      1115\n",
            "weighted avg       0.99      0.99      0.99      1115\n",
            "\n"
          ]
        }
      ]
    },
    {
      "cell_type": "code",
      "source": [
        "emails = [\n",
        "    'Hey mohan, can we get together to watch footbal game tomorrow?',\n",
        "    'Upto 20% discount on parking, exclusive offer just for you. Dont miss this reward!'\n",
        "]\n",
        "\n",
        "emails_count = v.transform(emails)\n",
        "model.predict(emails_count)"
      ],
      "metadata": {
        "colab": {
          "base_uri": "https://localhost:8080/"
        },
        "id": "4Xsfo_C0u7Be",
        "outputId": "2ce713b2-5ada-472c-d234-321cdda205ba"
      },
      "execution_count": 76,
      "outputs": [
        {
          "output_type": "execute_result",
          "data": {
            "text/plain": [
              "array([0, 1])"
            ]
          },
          "metadata": {},
          "execution_count": 76
        }
      ]
    },
    {
      "cell_type": "markdown",
      "source": [
        "### Train the model using sklearn pipeline and reduce number of lines of code"
      ],
      "metadata": {
        "id": "zTqMRWdpxALw"
      }
    },
    {
      "cell_type": "code",
      "source": [
        "from sklearn.pipeline import Pipeline\n",
        "\n",
        "clf = Pipeline([\n",
        "    ('vectorizer', CountVectorizer()),\n",
        "    ('nb', MultinomialNB())\n",
        "])"
      ],
      "metadata": {
        "id": "GDsyET-JvFyv"
      },
      "execution_count": 77,
      "outputs": []
    },
    {
      "cell_type": "code",
      "source": [
        "clf.fit(X_train,y_train)"
      ],
      "metadata": {
        "colab": {
          "base_uri": "https://localhost:8080/",
          "height": 126
        },
        "id": "YfM9HoobvSAY",
        "outputId": "98efb7f2-fd50-47d5-bee1-ef54637a7e13"
      },
      "execution_count": 79,
      "outputs": [
        {
          "output_type": "execute_result",
          "data": {
            "text/plain": [
              "Pipeline(steps=[('vectorizer', CountVectorizer()), ('nb', MultinomialNB())])"
            ],
            "text/html": [
              "<style>#sk-container-id-2 {color: black;background-color: white;}#sk-container-id-2 pre{padding: 0;}#sk-container-id-2 div.sk-toggleable {background-color: white;}#sk-container-id-2 label.sk-toggleable__label {cursor: pointer;display: block;width: 100%;margin-bottom: 0;padding: 0.3em;box-sizing: border-box;text-align: center;}#sk-container-id-2 label.sk-toggleable__label-arrow:before {content: \"▸\";float: left;margin-right: 0.25em;color: #696969;}#sk-container-id-2 label.sk-toggleable__label-arrow:hover:before {color: black;}#sk-container-id-2 div.sk-estimator:hover label.sk-toggleable__label-arrow:before {color: black;}#sk-container-id-2 div.sk-toggleable__content {max-height: 0;max-width: 0;overflow: hidden;text-align: left;background-color: #f0f8ff;}#sk-container-id-2 div.sk-toggleable__content pre {margin: 0.2em;color: black;border-radius: 0.25em;background-color: #f0f8ff;}#sk-container-id-2 input.sk-toggleable__control:checked~div.sk-toggleable__content {max-height: 200px;max-width: 100%;overflow: auto;}#sk-container-id-2 input.sk-toggleable__control:checked~label.sk-toggleable__label-arrow:before {content: \"▾\";}#sk-container-id-2 div.sk-estimator input.sk-toggleable__control:checked~label.sk-toggleable__label {background-color: #d4ebff;}#sk-container-id-2 div.sk-label input.sk-toggleable__control:checked~label.sk-toggleable__label {background-color: #d4ebff;}#sk-container-id-2 input.sk-hidden--visually {border: 0;clip: rect(1px 1px 1px 1px);clip: rect(1px, 1px, 1px, 1px);height: 1px;margin: -1px;overflow: hidden;padding: 0;position: absolute;width: 1px;}#sk-container-id-2 div.sk-estimator {font-family: monospace;background-color: #f0f8ff;border: 1px dotted black;border-radius: 0.25em;box-sizing: border-box;margin-bottom: 0.5em;}#sk-container-id-2 div.sk-estimator:hover {background-color: #d4ebff;}#sk-container-id-2 div.sk-parallel-item::after {content: \"\";width: 100%;border-bottom: 1px solid gray;flex-grow: 1;}#sk-container-id-2 div.sk-label:hover label.sk-toggleable__label {background-color: #d4ebff;}#sk-container-id-2 div.sk-serial::before {content: \"\";position: absolute;border-left: 1px solid gray;box-sizing: border-box;top: 0;bottom: 0;left: 50%;z-index: 0;}#sk-container-id-2 div.sk-serial {display: flex;flex-direction: column;align-items: center;background-color: white;padding-right: 0.2em;padding-left: 0.2em;position: relative;}#sk-container-id-2 div.sk-item {position: relative;z-index: 1;}#sk-container-id-2 div.sk-parallel {display: flex;align-items: stretch;justify-content: center;background-color: white;position: relative;}#sk-container-id-2 div.sk-item::before, #sk-container-id-2 div.sk-parallel-item::before {content: \"\";position: absolute;border-left: 1px solid gray;box-sizing: border-box;top: 0;bottom: 0;left: 50%;z-index: -1;}#sk-container-id-2 div.sk-parallel-item {display: flex;flex-direction: column;z-index: 1;position: relative;background-color: white;}#sk-container-id-2 div.sk-parallel-item:first-child::after {align-self: flex-end;width: 50%;}#sk-container-id-2 div.sk-parallel-item:last-child::after {align-self: flex-start;width: 50%;}#sk-container-id-2 div.sk-parallel-item:only-child::after {width: 0;}#sk-container-id-2 div.sk-dashed-wrapped {border: 1px dashed gray;margin: 0 0.4em 0.5em 0.4em;box-sizing: border-box;padding-bottom: 0.4em;background-color: white;}#sk-container-id-2 div.sk-label label {font-family: monospace;font-weight: bold;display: inline-block;line-height: 1.2em;}#sk-container-id-2 div.sk-label-container {text-align: center;}#sk-container-id-2 div.sk-container {/* jupyter's `normalize.less` sets `[hidden] { display: none; }` but bootstrap.min.css set `[hidden] { display: none !important; }` so we also need the `!important` here to be able to override the default hidden behavior on the sphinx rendered scikit-learn.org. See: https://github.com/scikit-learn/scikit-learn/issues/21755 */display: inline-block !important;position: relative;}#sk-container-id-2 div.sk-text-repr-fallback {display: none;}</style><div id=\"sk-container-id-2\" class=\"sk-top-container\"><div class=\"sk-text-repr-fallback\"><pre>Pipeline(steps=[(&#x27;vectorizer&#x27;, CountVectorizer()), (&#x27;nb&#x27;, MultinomialNB())])</pre><b>In a Jupyter environment, please rerun this cell to show the HTML representation or trust the notebook. <br />On GitHub, the HTML representation is unable to render, please try loading this page with nbviewer.org.</b></div><div class=\"sk-container\" hidden><div class=\"sk-item sk-dashed-wrapped\"><div class=\"sk-label-container\"><div class=\"sk-label sk-toggleable\"><input class=\"sk-toggleable__control sk-hidden--visually\" id=\"sk-estimator-id-2\" type=\"checkbox\" ><label for=\"sk-estimator-id-2\" class=\"sk-toggleable__label sk-toggleable__label-arrow\">Pipeline</label><div class=\"sk-toggleable__content\"><pre>Pipeline(steps=[(&#x27;vectorizer&#x27;, CountVectorizer()), (&#x27;nb&#x27;, MultinomialNB())])</pre></div></div></div><div class=\"sk-serial\"><div class=\"sk-item\"><div class=\"sk-estimator sk-toggleable\"><input class=\"sk-toggleable__control sk-hidden--visually\" id=\"sk-estimator-id-3\" type=\"checkbox\" ><label for=\"sk-estimator-id-3\" class=\"sk-toggleable__label sk-toggleable__label-arrow\">CountVectorizer</label><div class=\"sk-toggleable__content\"><pre>CountVectorizer()</pre></div></div></div><div class=\"sk-item\"><div class=\"sk-estimator sk-toggleable\"><input class=\"sk-toggleable__control sk-hidden--visually\" id=\"sk-estimator-id-4\" type=\"checkbox\" ><label for=\"sk-estimator-id-4\" class=\"sk-toggleable__label sk-toggleable__label-arrow\">MultinomialNB</label><div class=\"sk-toggleable__content\"><pre>MultinomialNB()</pre></div></div></div></div></div></div></div>"
            ]
          },
          "metadata": {},
          "execution_count": 79
        }
      ]
    },
    {
      "cell_type": "code",
      "source": [
        "y_pred = clf.predict(X_test)\n",
        "\n",
        "print(classification_report(y_test, y_pred))"
      ],
      "metadata": {
        "colab": {
          "base_uri": "https://localhost:8080/"
        },
        "id": "e1w8kN9ovVbm",
        "outputId": "4ded7fe8-92e3-43ea-b40d-fd81d0c8a485"
      },
      "execution_count": 80,
      "outputs": [
        {
          "output_type": "stream",
          "name": "stdout",
          "text": [
            "              precision    recall  f1-score   support\n",
            "\n",
            "           0       0.99      0.99      0.99       959\n",
            "           1       0.96      0.94      0.95       156\n",
            "\n",
            "    accuracy                           0.99      1115\n",
            "   macro avg       0.98      0.97      0.97      1115\n",
            "weighted avg       0.99      0.99      0.99      1115\n",
            "\n"
          ]
        }
      ]
    },
    {
      "cell_type": "code",
      "source": [],
      "metadata": {
        "id": "39jRJ0k2vcup"
      },
      "execution_count": null,
      "outputs": []
    }
  ]
}